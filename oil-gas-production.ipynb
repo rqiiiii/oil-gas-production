{
 "cells": [
  {
   "cell_type": "code",
   "execution_count": 1,
   "id": "7d6d2840-cb09-4625-9b65-a07db2883d43",
   "metadata": {},
   "outputs": [],
   "source": [
    "import pandas as pd\n",
    "\n",
    "df = pd.read_csv(\"usa_oilandgas_production.csv\", sep=\"\\t\")"
   ]
  },
  {
   "cell_type": "code",
   "execution_count": 2,
   "id": "11f65d0e-098c-46bd-8b2e-17a474c88422",
   "metadata": {},
   "outputs": [
    {
     "data": {
      "text/html": [
       "<div>\n",
       "<style scoped>\n",
       "    .dataframe tbody tr th:only-of-type {\n",
       "        vertical-align: middle;\n",
       "    }\n",
       "\n",
       "    .dataframe tbody tr th {\n",
       "        vertical-align: top;\n",
       "    }\n",
       "\n",
       "    .dataframe thead th {\n",
       "        text-align: right;\n",
       "    }\n",
       "</style>\n",
       "<table border=\"1\" class=\"dataframe\">\n",
       "  <thead>\n",
       "    <tr style=\"text-align: right;\">\n",
       "      <th></th>\n",
       "      <th>Unnamed: 0</th>\n",
       "      <th>Production Date</th>\n",
       "      <th>Land Class</th>\n",
       "      <th>Land Category</th>\n",
       "      <th>State</th>\n",
       "      <th>County</th>\n",
       "      <th>FIPS Code</th>\n",
       "      <th>Offshore Region</th>\n",
       "      <th>Commodity</th>\n",
       "      <th>Disposition Code</th>\n",
       "      <th>Disposition Description</th>\n",
       "      <th>Volume</th>\n",
       "    </tr>\n",
       "  </thead>\n",
       "  <tbody>\n",
       "    <tr>\n",
       "      <th>0</th>\n",
       "      <td>0</td>\n",
       "      <td>2015-01-01</td>\n",
       "      <td>Federal</td>\n",
       "      <td>Offshore</td>\n",
       "      <td>Offshore</td>\n",
       "      <td>Offshore</td>\n",
       "      <td>Offshore</td>\n",
       "      <td>Offshore Alaska</td>\n",
       "      <td>Gas (Mcf)</td>\n",
       "      <td>1</td>\n",
       "      <td>Sales-Royalty Due-MEASURED</td>\n",
       "      <td>0</td>\n",
       "    </tr>\n",
       "    <tr>\n",
       "      <th>1</th>\n",
       "      <td>1</td>\n",
       "      <td>2015-01-01</td>\n",
       "      <td>Federal</td>\n",
       "      <td>Offshore</td>\n",
       "      <td>Offshore</td>\n",
       "      <td>Offshore</td>\n",
       "      <td>Offshore</td>\n",
       "      <td>Offshore Gulf</td>\n",
       "      <td>Gas (Mcf)</td>\n",
       "      <td>1</td>\n",
       "      <td>Sales-Royalty Due-MEASURED</td>\n",
       "      <td>14508756</td>\n",
       "    </tr>\n",
       "    <tr>\n",
       "      <th>2</th>\n",
       "      <td>2</td>\n",
       "      <td>2015-01-01</td>\n",
       "      <td>Federal</td>\n",
       "      <td>Offshore</td>\n",
       "      <td>Offshore</td>\n",
       "      <td>Offshore</td>\n",
       "      <td>Offshore</td>\n",
       "      <td>Offshore Pacific</td>\n",
       "      <td>Gas (Mcf)</td>\n",
       "      <td>1</td>\n",
       "      <td>Sales-Royalty Due-MEASURED</td>\n",
       "      <td>1207520</td>\n",
       "    </tr>\n",
       "    <tr>\n",
       "      <th>3</th>\n",
       "      <td>3</td>\n",
       "      <td>2015-01-01</td>\n",
       "      <td>Federal</td>\n",
       "      <td>Offshore</td>\n",
       "      <td>Offshore</td>\n",
       "      <td>Offshore</td>\n",
       "      <td>Offshore</td>\n",
       "      <td>Offshore Gulf</td>\n",
       "      <td>Gas (Mcf)</td>\n",
       "      <td>4</td>\n",
       "      <td>Sales-Royalty Due-Not Measured</td>\n",
       "      <td>487324</td>\n",
       "    </tr>\n",
       "    <tr>\n",
       "      <th>4</th>\n",
       "      <td>4</td>\n",
       "      <td>2015-01-01</td>\n",
       "      <td>Federal</td>\n",
       "      <td>Offshore</td>\n",
       "      <td>Offshore</td>\n",
       "      <td>Offshore</td>\n",
       "      <td>Offshore</td>\n",
       "      <td>Offshore Pacific</td>\n",
       "      <td>Gas (Mcf)</td>\n",
       "      <td>4</td>\n",
       "      <td>Sales-Royalty Due-Not Measured</td>\n",
       "      <td>114808</td>\n",
       "    </tr>\n",
       "    <tr>\n",
       "      <th>...</th>\n",
       "      <td>...</td>\n",
       "      <td>...</td>\n",
       "      <td>...</td>\n",
       "      <td>...</td>\n",
       "      <td>...</td>\n",
       "      <td>...</td>\n",
       "      <td>...</td>\n",
       "      <td>...</td>\n",
       "      <td>...</td>\n",
       "      <td>...</td>\n",
       "      <td>...</td>\n",
       "      <td>...</td>\n",
       "    </tr>\n",
       "    <tr>\n",
       "      <th>95</th>\n",
       "      <td>95</td>\n",
       "      <td>2015-01-01</td>\n",
       "      <td>Federal</td>\n",
       "      <td>Onshore</td>\n",
       "      <td>AR</td>\n",
       "      <td>Logan</td>\n",
       "      <td>5083.0</td>\n",
       "      <td>Onshore</td>\n",
       "      <td>Gas (Mcf)</td>\n",
       "      <td>1</td>\n",
       "      <td>Sales-Royalty Due-MEASURED</td>\n",
       "      <td>302347</td>\n",
       "    </tr>\n",
       "    <tr>\n",
       "      <th>96</th>\n",
       "      <td>96</td>\n",
       "      <td>2015-01-01</td>\n",
       "      <td>Federal</td>\n",
       "      <td>Onshore</td>\n",
       "      <td>AR</td>\n",
       "      <td>Pope</td>\n",
       "      <td>5115.0</td>\n",
       "      <td>Onshore</td>\n",
       "      <td>Gas (Mcf)</td>\n",
       "      <td>1</td>\n",
       "      <td>Sales-Royalty Due-MEASURED</td>\n",
       "      <td>11267</td>\n",
       "    </tr>\n",
       "    <tr>\n",
       "      <th>97</th>\n",
       "      <td>97</td>\n",
       "      <td>2015-01-01</td>\n",
       "      <td>Federal</td>\n",
       "      <td>Onshore</td>\n",
       "      <td>AR</td>\n",
       "      <td>Sebastian</td>\n",
       "      <td>5131.0</td>\n",
       "      <td>Onshore</td>\n",
       "      <td>Gas (Mcf)</td>\n",
       "      <td>1</td>\n",
       "      <td>Sales-Royalty Due-MEASURED</td>\n",
       "      <td>211689</td>\n",
       "    </tr>\n",
       "    <tr>\n",
       "      <th>98</th>\n",
       "      <td>98</td>\n",
       "      <td>2015-01-01</td>\n",
       "      <td>Federal</td>\n",
       "      <td>Onshore</td>\n",
       "      <td>AR</td>\n",
       "      <td>Sharp</td>\n",
       "      <td>5135.0</td>\n",
       "      <td>Onshore</td>\n",
       "      <td>Gas (Mcf)</td>\n",
       "      <td>1</td>\n",
       "      <td>Sales-Royalty Due-MEASURED</td>\n",
       "      <td>2178</td>\n",
       "    </tr>\n",
       "    <tr>\n",
       "      <th>99</th>\n",
       "      <td>99</td>\n",
       "      <td>2015-01-01</td>\n",
       "      <td>Federal</td>\n",
       "      <td>Onshore</td>\n",
       "      <td>AR</td>\n",
       "      <td>Van Buren</td>\n",
       "      <td>5141.0</td>\n",
       "      <td>Onshore</td>\n",
       "      <td>Gas (Mcf)</td>\n",
       "      <td>1</td>\n",
       "      <td>Sales-Royalty Due-MEASURED</td>\n",
       "      <td>174497</td>\n",
       "    </tr>\n",
       "  </tbody>\n",
       "</table>\n",
       "<p>100 rows × 12 columns</p>\n",
       "</div>"
      ],
      "text/plain": [
       "    Unnamed: 0 Production Date Land Class Land Category     State     County  \\\n",
       "0            0      2015-01-01    Federal      Offshore  Offshore   Offshore   \n",
       "1            1      2015-01-01    Federal      Offshore  Offshore   Offshore   \n",
       "2            2      2015-01-01    Federal      Offshore  Offshore   Offshore   \n",
       "3            3      2015-01-01    Federal      Offshore  Offshore   Offshore   \n",
       "4            4      2015-01-01    Federal      Offshore  Offshore   Offshore   \n",
       "..         ...             ...        ...           ...       ...        ...   \n",
       "95          95      2015-01-01    Federal       Onshore        AR      Logan   \n",
       "96          96      2015-01-01    Federal       Onshore        AR       Pope   \n",
       "97          97      2015-01-01    Federal       Onshore        AR  Sebastian   \n",
       "98          98      2015-01-01    Federal       Onshore        AR      Sharp   \n",
       "99          99      2015-01-01    Federal       Onshore        AR  Van Buren   \n",
       "\n",
       "   FIPS Code   Offshore Region  Commodity  Disposition Code  \\\n",
       "0   Offshore   Offshore Alaska  Gas (Mcf)                 1   \n",
       "1   Offshore     Offshore Gulf  Gas (Mcf)                 1   \n",
       "2   Offshore  Offshore Pacific  Gas (Mcf)                 1   \n",
       "3   Offshore     Offshore Gulf  Gas (Mcf)                 4   \n",
       "4   Offshore  Offshore Pacific  Gas (Mcf)                 4   \n",
       "..       ...               ...        ...               ...   \n",
       "95    5083.0           Onshore  Gas (Mcf)                 1   \n",
       "96    5115.0           Onshore  Gas (Mcf)                 1   \n",
       "97    5131.0           Onshore  Gas (Mcf)                 1   \n",
       "98    5135.0           Onshore  Gas (Mcf)                 1   \n",
       "99    5141.0           Onshore  Gas (Mcf)                 1   \n",
       "\n",
       "           Disposition Description    Volume  \n",
       "0       Sales-Royalty Due-MEASURED         0  \n",
       "1       Sales-Royalty Due-MEASURED  14508756  \n",
       "2       Sales-Royalty Due-MEASURED   1207520  \n",
       "3   Sales-Royalty Due-Not Measured    487324  \n",
       "4   Sales-Royalty Due-Not Measured    114808  \n",
       "..                             ...       ...  \n",
       "95      Sales-Royalty Due-MEASURED    302347  \n",
       "96      Sales-Royalty Due-MEASURED     11267  \n",
       "97      Sales-Royalty Due-MEASURED    211689  \n",
       "98      Sales-Royalty Due-MEASURED      2178  \n",
       "99      Sales-Royalty Due-MEASURED    174497  \n",
       "\n",
       "[100 rows x 12 columns]"
      ]
     },
     "execution_count": 2,
     "metadata": {},
     "output_type": "execute_result"
    }
   ],
   "source": [
    "df.head(100)"
   ]
  },
  {
   "cell_type": "code",
   "execution_count": 64,
   "id": "804d657c-a937-4547-a380-0520db4c06e0",
   "metadata": {},
   "outputs": [],
   "source": [
    "#For counties only\n",
    "counties_df = df[~df['County'].str.contains('Offshore', case=False, na=False)]"
   ]
  },
  {
   "cell_type": "code",
   "execution_count": 66,
   "id": "ac5c8d28-9fc1-4ceb-9545-455e20c67296",
   "metadata": {},
   "outputs": [
    {
     "data": {
      "text/plain": [
       "317"
      ]
     },
     "execution_count": 66,
     "metadata": {},
     "output_type": "execute_result"
    }
   ],
   "source": [
    "#How many unique counties are there?\n",
    "counties_df['County'].nunique()"
   ]
  },
  {
   "cell_type": "code",
   "execution_count": 68,
   "id": "3fbdcbfd-5102-45f9-ad45-73096e4b0856",
   "metadata": {},
   "outputs": [
    {
     "data": {
      "text/plain": [
       "array(['Kenai (Post)', 'Tyonek', 'Tuscaloosa', 'Cleburne', 'Conway',\n",
       "       'Crawford', 'Faulkner', 'Franklin', 'Johnson', 'Logan', 'Pope',\n",
       "       'Sebastian', 'Sharp', 'Van Buren', 'White', 'Yell', 'Contra Costa',\n",
       "       'Glenn', 'Kern', 'Los Angeles', 'Sacramento', 'San Joaquin',\n",
       "       'Santa Barbara', 'Solano', 'Ventura', 'Archuleta', 'Baca', 'Bent',\n",
       "       'Broomfield', 'Cheyenne', 'Delta', 'Dolores', 'Garfield',\n",
       "       'Gunnison', 'Huerfano', 'Kiowa', 'La Plata', 'Las Animas', 'Mesa',\n",
       "       'Moffat', 'Montezuma', 'Phillips', 'Prowers', 'Rio Blanco',\n",
       "       'Routt', 'San Miguel', 'Washington', 'Weld', 'Yuma', 'Comanche',\n",
       "       'Ellsworth', 'Finney', 'Grant', 'Hamilton', 'Kearny', 'Meade',\n",
       "       'Morton', 'Seward', 'Stanton', 'Stevens', 'Clay', 'Floyd',\n",
       "       'Lawrence', 'Leslie', 'Letcher', 'Mccreary', 'Morgan', 'Pike',\n",
       "       'Whitley', 'Beauregard', 'Bienville', 'Bossier', 'Caddo',\n",
       "       'Caldwell', 'Claiborne', 'De Soto', 'Lincoln', 'Morehouse',\n",
       "       'Ouachita', 'Plaquemines', 'Rapides', 'Red River', 'Sabine',\n",
       "       'St. Martin', 'Union', 'Vermilion', 'Vernon', 'W Delta', 'Webster',\n",
       "       'Winn', 'Antrim', 'Clare', 'Grand Traverse', 'Kalkaska',\n",
       "       'Montmorency', 'Oscoda', 'Roscommon', 'Chickasaw', 'Covington',\n",
       "       'Forrest', 'Jasper', 'Jefferson Davis', 'Jones', 'Lowndes',\n",
       "       'Monroe', 'Pearl River', 'Big Horn', 'Blaine', 'Carbon',\n",
       "       'Chouteau', 'Custer', 'Fallon', 'Fergus', 'Glacier', 'Hill',\n",
       "       'Liberty', 'Pondera', 'Roosevelt', 'Sheridan', 'Toole', 'Valley',\n",
       "       'Wibaux', 'Billings', 'Bowman', 'Burke', 'Divide', 'Dunn',\n",
       "       'Golden Valley', 'Mckenzie', 'Mountrail', 'Stark', 'Williams',\n",
       "       'Chaves', 'Colfax', 'Eddy', 'Lea', 'Mckinley', 'Rio Arriba',\n",
       "       'San Juan', 'Sandoval', 'Chautauqua', 'Chemung', 'Seneca',\n",
       "       'Athens', 'Mahoning', 'Portage', 'Trumbull', 'Alfalfa', 'Atoka',\n",
       "       'Beaver', 'Beckham', 'Canadian', 'Coal', 'Dewey', 'Ellis', 'Grady',\n",
       "       'Harper', 'Haskell', 'Hughes', 'Kingfisher', 'Latimer', 'Le Flore',\n",
       "       'Major', 'Mcintosh', 'Payne', 'Pittsburg', 'Roger Mills',\n",
       "       'Sequoyah', 'Texas', 'Washita', 'Woods', 'Woodward', 'Bradford',\n",
       "       'Indiana', 'Westmoreland', 'Harding', 'Burleson', 'Denton',\n",
       "       'Freestone', 'Galveston', 'Grayson', 'Hemphill', 'Hidalgo',\n",
       "       'Houston', 'Jackson', 'Lee', 'Live Oak', 'Mcmullen', 'Montague',\n",
       "       'Montgomery', 'Nacogdoches', 'Nueces', 'Ochiltree', 'Parker',\n",
       "       'San Augustine', 'San Jacinto', 'Shelby', 'Starr', 'Tarrant',\n",
       "       'Taylor', 'Wheeler', 'Wise', 'Zapata', 'Daggett', 'Duchesne',\n",
       "       'Emery', 'Grand', 'Summit', 'Uintah', 'Dickenson', 'Mingo',\n",
       "       'Pendleton', 'Preston', 'Randolph', 'Tucker', 'Wyoming', 'Albany',\n",
       "       'Campbell', 'Converse', 'Crook', 'Fremont', 'Hot Springs',\n",
       "       'Natrona', 'Niobrara', 'Park', 'Sublette', 'Sweetwater', 'Uinta',\n",
       "       'Washakie', 'Weston', 'Quay', 'Richland', 'Stillwater', 'Licking',\n",
       "       'Choctaw', 'Conecuh', 'Escambia', 'Lamar', 'Mobile', 'Fresno',\n",
       "       'Kings', 'Monterey', 'San Luis Obispo', 'Adams', 'Arapahoe',\n",
       "       'Kit Carson', 'Larimer', 'Clinton', 'Gove', 'Lane', 'Trego',\n",
       "       'Henderson', 'Concordia', 'East Baton Rouge', 'S Pass', 'Calhoun',\n",
       "       'Clarke', 'Perry', 'Smith', 'Wayne', 'Wilkinson', 'Carter',\n",
       "       'Dawson', 'Musselshell', 'Petroleum', 'Powder River', 'Prairie',\n",
       "       'Rosebud', 'Bottineau', 'Renville', 'Slope', 'Dundy', 'Harlan',\n",
       "       'Hitchcock', 'Kimball', 'Red Willow', 'Eureka', 'Nye', 'Hocking',\n",
       "       'Muskingum', 'Garvin', 'Oklahoma', 'Tillman', 'Forest',\n",
       "       'Fall River', 'Bowie', 'Gray', 'Karnes', 'Wilson', 'Salt Lake',\n",
       "       'Sevier', 'Laramie', 'Columbia', 'Alcona', 'Otsego', 'Greer',\n",
       "       'Harrison', 'Utah', 'Baldwin', 'Scott', 'Allegan', 'Sanpete',\n",
       "       'Fayette', 'Elko', 'Cameron', 'Yellowstone', 'Harrison Bay',\n",
       "       'San Benito', 'Payette', 'Brazoria', 'Mcclain', 'Mclean', 'Walker',\n",
       "       'Kenai (Pre)', 'Goshen', 'Cleveland', 'Rogers'], dtype=object)"
      ]
     },
     "execution_count": 68,
     "metadata": {},
     "output_type": "execute_result"
    }
   ],
   "source": [
    "counties_df['County'].unique()"
   ]
  },
  {
   "cell_type": "code",
   "execution_count": 70,
   "id": "40005cc4-0d18-4779-8262-43c3829e794f",
   "metadata": {},
   "outputs": [
    {
     "data": {
      "text/plain": [
       "County\n",
       "Sublette       8064839406\n",
       "Eddy           6739997815\n",
       "Lea            5642299669\n",
       "San Juan       2621146686\n",
       "Rio Arriba     1790498371\n",
       "                  ...    \n",
       "Beauregard            105\n",
       "Choctaw                65\n",
       "Yellowstone             5\n",
       "Kenai (Pre)             0\n",
       "Clarke                  0\n",
       "Name: Volume, Length: 317, dtype: int64"
      ]
     },
     "execution_count": 70,
     "metadata": {},
     "output_type": "execute_result"
    }
   ],
   "source": [
    "#Which county is most productive?\n",
    "#Group by the county and sum up the volume\n",
    "counties_df.groupby('County')['Volume'].sum().sort_values(ascending=False)"
   ]
  },
  {
   "cell_type": "code",
   "execution_count": 7,
   "id": "0bc6877f-d84f-4859-b7c8-d1ff0679dd79",
   "metadata": {},
   "outputs": [
    {
     "data": {
      "text/plain": [
       "array(['AK', 'AL', 'AR', 'CA', 'CO', 'KS', 'KY', 'LA', 'MI', 'MS', 'MT',\n",
       "       'ND', 'NM', 'NY', 'OH', 'OK', 'PA', 'SD', 'TX', 'UT', 'VA', 'WV',\n",
       "       'WY', 'IL', 'NE', 'NV', 'ID'], dtype=object)"
      ]
     },
     "execution_count": 7,
     "metadata": {},
     "output_type": "execute_result"
    }
   ],
   "source": [
    "#How many states are there?\n",
    "counties_df['State'].unique()"
   ]
  },
  {
   "cell_type": "code",
   "execution_count": 8,
   "id": "7a741423-5414-4033-950c-b179843eb0b1",
   "metadata": {},
   "outputs": [
    {
     "data": {
      "text/plain": [
       "28"
      ]
     },
     "execution_count": 8,
     "metadata": {},
     "output_type": "execute_result"
    }
   ],
   "source": [
    "df['State'].nunique()"
   ]
  },
  {
   "cell_type": "code",
   "execution_count": 9,
   "id": "cb05a164-6352-46d0-bd0c-9f91b6ec4875",
   "metadata": {},
   "outputs": [
    {
     "data": {
      "text/plain": [
       "State\n",
       "NM    16918717269\n",
       "WY    13262488622\n",
       "CO     6121273504\n",
       "UT     1870280368\n",
       "ND     1362627869\n",
       "Name: Volume, dtype: int64"
      ]
     },
     "execution_count": 9,
     "metadata": {},
     "output_type": "execute_result"
    }
   ],
   "source": [
    "#What are the top 5 states by volume?\n",
    "#group by counties and sum the volume\n",
    "counties_df.groupby('State')['Volume'].sum().sort_values(ascending=False).head()"
   ]
  },
  {
   "cell_type": "code",
   "execution_count": 10,
   "id": "331bd373-4478-47cd-a704-2cf747d1c3a1",
   "metadata": {},
   "outputs": [
    {
     "name": "stdout",
     "output_type": "stream",
     "text": [
      "State\n",
      "WY    1445442618\n",
      "NM     889068131\n",
      "CO     657397303\n",
      "UT     199563568\n",
      "ND      89346692\n",
      "Name: Volume, dtype: int64\n"
     ]
    },
    {
     "name": "stderr",
     "output_type": "stream",
     "text": [
      "C:\\Users\\HP\\AppData\\Local\\Temp\\ipykernel_6240\\3072020590.py:3: SettingWithCopyWarning: \n",
      "A value is trying to be set on a copy of a slice from a DataFrame.\n",
      "Try using .loc[row_indexer,col_indexer] = value instead\n",
      "\n",
      "See the caveats in the documentation: https://pandas.pydata.org/pandas-docs/stable/user_guide/indexing.html#returning-a-view-versus-a-copy\n",
      "  counties_df['Production Date'] = pd.to_datetime(df['Production Date'])\n"
     ]
    }
   ],
   "source": [
    "#What are the top 5 states by volume in 2017?\n",
    "#Make sure Production Date is datetime\n",
    "counties_df['Production Date'] = pd.to_datetime(df['Production Date'])\n",
    "\n",
    "#Filter for year 2017\n",
    "df_2017 = counties_df[counties_df['Production Date'].dt.year == 2017]\n",
    "\n",
    "#Group by county and sum volume\n",
    "top_counties_2017 = df_2017.groupby('State')['Volume'].sum().sort_values(ascending=False).head(5)\n",
    "\n",
    "print(top_counties_2017)\n"
   ]
  },
  {
   "cell_type": "code",
   "execution_count": 34,
   "id": "16150184-8755-45ca-9fad-4810f0ff4888",
   "metadata": {},
   "outputs": [
    {
     "name": "stdout",
     "output_type": "stream",
     "text": [
      "     Year State      Volume\n",
      "26   2015    WY  1583118750\n",
      "53   2016    WY  1477790528\n",
      "80   2017    WY  1445442618\n",
      "107  2018    WY  1457581069\n",
      "134  2019    WY  1326093545\n",
      "150  2020    NM  1393155760\n",
      "177  2021    NM  1736132350\n",
      "204  2022    NM  2143159295\n",
      "230  2023    NM  2516660961\n",
      "257  2024    NM  2926038279\n",
      "283  2025    NM  1256345879\n"
     ]
    }
   ],
   "source": [
    "#Please list out all years and the most productive state for each year\n",
    "\n",
    "# Ensure Production Date is datetime\n",
    "df['Production Date'] = pd.to_datetime(df['Production Date'])\n",
    "\n",
    "# Extract year\n",
    "df['Year'] = df['Production Date'].dt.year\n",
    "\n",
    "# Remove offshore rows\n",
    "df_filtered = df[~df['County'].str.contains('Offshore', case=False, na=False)]\n",
    "\n",
    "# Group by Year and State, sum Volume\n",
    "state_year_volume = df_filtered.groupby(['Year', 'State'])['Volume'].sum().reset_index()\n",
    "\n",
    "# For each year, find the state with max volume\n",
    "most_productive_state_per_year = state_year_volume.loc[state_year_volume.groupby('Year')['Volume'].idxmax()]\n",
    "\n",
    "print(most_productive_state_per_year)\n"
   ]
  },
  {
   "cell_type": "code",
   "execution_count": 62,
   "id": "7cb52adb-a1a9-413d-bba9-acbaca863142",
   "metadata": {},
   "outputs": [
    {
     "name": "stdout",
     "output_type": "stream",
     "text": [
      "Most productive offshore region: Offshore Gulf\n"
     ]
    },
    {
     "data": {
      "text/plain": [
       "Offshore Region\n",
       "Offshore Gulf       16294904329\n",
       "Onshore              4592296835\n",
       "Offshore Alaska       293337313\n",
       "Offshore Pacific       98614167\n",
       "Name: Volume, dtype: int64"
      ]
     },
     "execution_count": 62,
     "metadata": {},
     "output_type": "execute_result"
    }
   ],
   "source": [
    "#Which Offshore region is the most productive by volume?\n",
    "#Filter only offshore rows\n",
    "offshore_rows = df[df['County'].str.contains('Offshore')]\n",
    "\n",
    "#Sum the production volume for each offshore region\n",
    "total_volume = offshore_rows.groupby('Offshore Region')['Volume'].sum()\n",
    "\n",
    "#Find the region with the highest total volume\n",
    "most_productive = total_volume.idxmax()\n",
    "print(\"Most productive offshore region:\", most_productive)\n",
    "\n",
    "#Show top volume with offshore regions\n",
    "total_volume.sort_values(ascending=False)\n"
   ]
  },
  {
   "cell_type": "code",
   "execution_count": 44,
   "id": "2e752d14-2a3c-4ed8-8c8b-d431046dfa62",
   "metadata": {},
   "outputs": [
    {
     "data": {
      "image/png": "[encoded data removed]",
      "text/plain": [
       "<Figure size 1200x600 with 1 Axes>"
      ]
     },
     "metadata": {},
     "output_type": "display_data"
    }
   ],
   "source": [
    "import pandas as pd\n",
    "import matplotlib.pyplot as plt\n",
    "\n",
    "#Ensure 'Production Date' is datetime\n",
    "df['Production Date'] = pd.to_datetime(df['Production Date'])\n",
    "\n",
    "# Extract year\n",
    "df['Year'] = df['Production Date'].dt.year\n",
    "\n",
    "# Separate counties and offshore\n",
    "counties_df = df[~df['County'].str.contains('Offshore')]\n",
    "offshore_df = df[df['County'].str.contains('Offshore', case=False, na=False)]\n",
    "\n",
    "# Sum volumes by year\n",
    "counties_year = counties_df.groupby('Year')['Volume'].sum()\n",
    "offshore_year = offshore_df.groupby('Year')['Volume'].sum()\n",
    "\n",
    "# Create a stacked bar chart\n",
    "plt.figure(figsize=(12,6))\n",
    "plt.bar(counties_year.index, counties_year.values, label='Counties')\n",
    "plt.bar(offshore_year.index, offshore_year.values, bottom=counties_year.values, label='Offshore')\n",
    "\n",
    "plt.xlabel('Year')\n",
    "plt.ylabel('Total Volume')\n",
    "plt.title('Total Volume by Year: Counties vs Offshore')\n",
    "plt.legend()\n",
    "plt.xticks(counties_year.index)  # ensure all years show\n",
    "plt.tight_layout()\n",
    "plt.show()\n"
   ]
  },
  {
   "cell_type": "code",
   "execution_count": null,
   "id": "aa6b9995-21a7-4e44-98d6-c366b322f087",
   "metadata": {},
   "outputs": [],
   "source": []
  }
 ],
 "metadata": {
  "kernelspec": {
   "display_name": "Python 3 (ipykernel)",
   "language": "python",
   "name": "python3"
  },
  "language_info": {
   "codemirror_mode": {
    "name": "ipython",
    "version": 3
   },
   "file_extension": ".py",
   "mimetype": "text/x-python",
   "name": "python",
   "nbconvert_exporter": "python",
   "pygments_lexer": "ipython3",
   "version": "3.12.4"
  }
 },
 "nbformat": 4,
 "nbformat_minor": 5
}
